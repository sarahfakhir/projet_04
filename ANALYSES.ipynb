{
 "cells": [
  {
   "cell_type": "code",
   "execution_count": 87,
   "id": "a67378c1",
   "metadata": {},
   "outputs": [],
   "source": [
    "import pandas as pd\n",
    "import numpy as np\n",
    "import matplotlib.pyplot as plt\n",
    "import seaborn as sns\n",
    "import scipy.stats as st\n",
    "import math as mth"
   ]
  },
  {
   "cell_type": "code",
   "execution_count": 88,
   "id": "15abb323",
   "metadata": {},
   "outputs": [],
   "source": [
    "df = pd.read_csv('DATA_P4/data_final.csv')"
   ]
  },
  {
   "cell_type": "code",
   "execution_count": 89,
   "id": "1ead96ea",
   "metadata": {},
   "outputs": [
    {
     "data": {
      "text/html": [
       "<div>\n",
       "<style scoped>\n",
       "    .dataframe tbody tr th:only-of-type {\n",
       "        vertical-align: middle;\n",
       "    }\n",
       "\n",
       "    .dataframe tbody tr th {\n",
       "        vertical-align: top;\n",
       "    }\n",
       "\n",
       "    .dataframe thead th {\n",
       "        text-align: right;\n",
       "    }\n",
       "</style>\n",
       "<table border=\"1\" class=\"dataframe\">\n",
       "  <thead>\n",
       "    <tr style=\"text-align: right;\">\n",
       "      <th></th>\n",
       "      <th>id_prod</th>\n",
       "      <th>price</th>\n",
       "      <th>categ</th>\n",
       "      <th>client_id</th>\n",
       "      <th>sex</th>\n",
       "      <th>birth</th>\n",
       "      <th>date</th>\n",
       "      <th>session_id</th>\n",
       "    </tr>\n",
       "  </thead>\n",
       "  <tbody>\n",
       "    <tr>\n",
       "      <th>0</th>\n",
       "      <td>0_1421</td>\n",
       "      <td>19.99</td>\n",
       "      <td>0.0</td>\n",
       "      <td>c_5152</td>\n",
       "      <td>f</td>\n",
       "      <td>1986.0</td>\n",
       "      <td>2021-04-17 06:09:37.424812</td>\n",
       "      <td>s_21727</td>\n",
       "    </tr>\n",
       "    <tr>\n",
       "      <th>1</th>\n",
       "      <td>0_1421</td>\n",
       "      <td>19.99</td>\n",
       "      <td>0.0</td>\n",
       "      <td>c_2167</td>\n",
       "      <td>f</td>\n",
       "      <td>1960.0</td>\n",
       "      <td>2021-11-24 00:28:06.088699</td>\n",
       "      <td>s_124134</td>\n",
       "    </tr>\n",
       "    <tr>\n",
       "      <th>2</th>\n",
       "      <td>0_1421</td>\n",
       "      <td>19.99</td>\n",
       "      <td>0.0</td>\n",
       "      <td>c_3060</td>\n",
       "      <td>m</td>\n",
       "      <td>1971.0</td>\n",
       "      <td>2021-04-06 09:35:05.954975</td>\n",
       "      <td>s_16742</td>\n",
       "    </tr>\n",
       "    <tr>\n",
       "      <th>3</th>\n",
       "      <td>0_1421</td>\n",
       "      <td>19.99</td>\n",
       "      <td>0.0</td>\n",
       "      <td>c_7946</td>\n",
       "      <td>f</td>\n",
       "      <td>1987.0</td>\n",
       "      <td>2021-10-26 00:06:47.812612</td>\n",
       "      <td>s_110147</td>\n",
       "    </tr>\n",
       "    <tr>\n",
       "      <th>4</th>\n",
       "      <td>0_1421</td>\n",
       "      <td>19.99</td>\n",
       "      <td>0.0</td>\n",
       "      <td>c_1934</td>\n",
       "      <td>f</td>\n",
       "      <td>2004.0</td>\n",
       "      <td>2021-12-23 00:10:38.256002</td>\n",
       "      <td>s_138491</td>\n",
       "    </tr>\n",
       "  </tbody>\n",
       "</table>\n",
       "</div>"
      ],
      "text/plain": [
       "  id_prod  price  categ client_id sex   birth                        date  \\\n",
       "0  0_1421  19.99    0.0    c_5152   f  1986.0  2021-04-17 06:09:37.424812   \n",
       "1  0_1421  19.99    0.0    c_2167   f  1960.0  2021-11-24 00:28:06.088699   \n",
       "2  0_1421  19.99    0.0    c_3060   m  1971.0  2021-04-06 09:35:05.954975   \n",
       "3  0_1421  19.99    0.0    c_7946   f  1987.0  2021-10-26 00:06:47.812612   \n",
       "4  0_1421  19.99    0.0    c_1934   f  2004.0  2021-12-23 00:10:38.256002   \n",
       "\n",
       "  session_id  \n",
       "0    s_21727  \n",
       "1   s_124134  \n",
       "2    s_16742  \n",
       "3   s_110147  \n",
       "4   s_138491  "
      ]
     },
     "execution_count": 89,
     "metadata": {},
     "output_type": "execute_result"
    }
   ],
   "source": [
    "df.head()"
   ]
  },
  {
   "cell_type": "code",
   "execution_count": 90,
   "id": "ab4dce29",
   "metadata": {
    "scrolled": true
   },
   "outputs": [
    {
     "data": {
      "text/html": [
       "<div>\n",
       "<style scoped>\n",
       "    .dataframe tbody tr th:only-of-type {\n",
       "        vertical-align: middle;\n",
       "    }\n",
       "\n",
       "    .dataframe tbody tr th {\n",
       "        vertical-align: top;\n",
       "    }\n",
       "\n",
       "    .dataframe thead th {\n",
       "        text-align: right;\n",
       "    }\n",
       "</style>\n",
       "<table border=\"1\" class=\"dataframe\">\n",
       "  <thead>\n",
       "    <tr style=\"text-align: right;\">\n",
       "      <th></th>\n",
       "      <th>id_prod</th>\n",
       "      <th>price</th>\n",
       "      <th>categ</th>\n",
       "      <th>client_id</th>\n",
       "      <th>sex</th>\n",
       "      <th>birth</th>\n",
       "      <th>date</th>\n",
       "      <th>session_id</th>\n",
       "      <th>mois_annee</th>\n",
       "      <th>age</th>\n",
       "    </tr>\n",
       "  </thead>\n",
       "  <tbody>\n",
       "    <tr>\n",
       "      <th>0</th>\n",
       "      <td>0_1421</td>\n",
       "      <td>19.99</td>\n",
       "      <td>0.0</td>\n",
       "      <td>c_5152</td>\n",
       "      <td>f</td>\n",
       "      <td>1986.0</td>\n",
       "      <td>2021-04-17 06:09:37.424812</td>\n",
       "      <td>s_21727</td>\n",
       "      <td>2021-04</td>\n",
       "      <td>36.0</td>\n",
       "    </tr>\n",
       "    <tr>\n",
       "      <th>1</th>\n",
       "      <td>0_1421</td>\n",
       "      <td>19.99</td>\n",
       "      <td>0.0</td>\n",
       "      <td>c_2167</td>\n",
       "      <td>f</td>\n",
       "      <td>1960.0</td>\n",
       "      <td>2021-11-24 00:28:06.088699</td>\n",
       "      <td>s_124134</td>\n",
       "      <td>2021-11</td>\n",
       "      <td>62.0</td>\n",
       "    </tr>\n",
       "    <tr>\n",
       "      <th>2</th>\n",
       "      <td>0_1421</td>\n",
       "      <td>19.99</td>\n",
       "      <td>0.0</td>\n",
       "      <td>c_3060</td>\n",
       "      <td>m</td>\n",
       "      <td>1971.0</td>\n",
       "      <td>2021-04-06 09:35:05.954975</td>\n",
       "      <td>s_16742</td>\n",
       "      <td>2021-04</td>\n",
       "      <td>51.0</td>\n",
       "    </tr>\n",
       "    <tr>\n",
       "      <th>3</th>\n",
       "      <td>0_1421</td>\n",
       "      <td>19.99</td>\n",
       "      <td>0.0</td>\n",
       "      <td>c_7946</td>\n",
       "      <td>f</td>\n",
       "      <td>1987.0</td>\n",
       "      <td>2021-10-26 00:06:47.812612</td>\n",
       "      <td>s_110147</td>\n",
       "      <td>2021-10</td>\n",
       "      <td>35.0</td>\n",
       "    </tr>\n",
       "    <tr>\n",
       "      <th>4</th>\n",
       "      <td>0_1421</td>\n",
       "      <td>19.99</td>\n",
       "      <td>0.0</td>\n",
       "      <td>c_1934</td>\n",
       "      <td>f</td>\n",
       "      <td>2004.0</td>\n",
       "      <td>2021-12-23 00:10:38.256002</td>\n",
       "      <td>s_138491</td>\n",
       "      <td>2021-12</td>\n",
       "      <td>18.0</td>\n",
       "    </tr>\n",
       "  </tbody>\n",
       "</table>\n",
       "</div>"
      ],
      "text/plain": [
       "  id_prod  price  categ client_id sex   birth                        date  \\\n",
       "0  0_1421  19.99    0.0    c_5152   f  1986.0  2021-04-17 06:09:37.424812   \n",
       "1  0_1421  19.99    0.0    c_2167   f  1960.0  2021-11-24 00:28:06.088699   \n",
       "2  0_1421  19.99    0.0    c_3060   m  1971.0  2021-04-06 09:35:05.954975   \n",
       "3  0_1421  19.99    0.0    c_7946   f  1987.0  2021-10-26 00:06:47.812612   \n",
       "4  0_1421  19.99    0.0    c_1934   f  2004.0  2021-12-23 00:10:38.256002   \n",
       "\n",
       "  session_id mois_annee   age  \n",
       "0    s_21727    2021-04  36.0  \n",
       "1   s_124134    2021-11  62.0  \n",
       "2    s_16742    2021-04  51.0  \n",
       "3   s_110147    2021-10  35.0  \n",
       "4   s_138491    2021-12  18.0  "
      ]
     },
     "execution_count": 90,
     "metadata": {},
     "output_type": "execute_result"
    }
   ],
   "source": [
    "df['mois_annee']= df.date.str.slice(0, 7)\n",
    "df['age']= 2022-df['birth']\n",
    "df.head()"
   ]
  },
  {
   "cell_type": "code",
   "execution_count": 91,
   "id": "6cee73da",
   "metadata": {},
   "outputs": [
    {
     "data": {
      "text/html": [
       "<div>\n",
       "<style scoped>\n",
       "    .dataframe tbody tr th:only-of-type {\n",
       "        vertical-align: middle;\n",
       "    }\n",
       "\n",
       "    .dataframe tbody tr th {\n",
       "        vertical-align: top;\n",
       "    }\n",
       "\n",
       "    .dataframe thead th {\n",
       "        text-align: right;\n",
       "    }\n",
       "</style>\n",
       "<table border=\"1\" class=\"dataframe\">\n",
       "  <thead>\n",
       "    <tr style=\"text-align: right;\">\n",
       "      <th></th>\n",
       "      <th>id_prod</th>\n",
       "      <th>price</th>\n",
       "      <th>categ</th>\n",
       "      <th>client_id</th>\n",
       "      <th>sex</th>\n",
       "      <th>birth</th>\n",
       "      <th>date</th>\n",
       "      <th>session_id</th>\n",
       "      <th>mois_annee</th>\n",
       "      <th>age</th>\n",
       "      <th>annee</th>\n",
       "      <th>mois</th>\n",
       "    </tr>\n",
       "  </thead>\n",
       "  <tbody>\n",
       "    <tr>\n",
       "      <th>0</th>\n",
       "      <td>0_1421</td>\n",
       "      <td>19.99</td>\n",
       "      <td>0.0</td>\n",
       "      <td>c_5152</td>\n",
       "      <td>f</td>\n",
       "      <td>1986.0</td>\n",
       "      <td>2021-04-17 06:09:37.424812</td>\n",
       "      <td>s_21727</td>\n",
       "      <td>2021-04-01</td>\n",
       "      <td>36.0</td>\n",
       "      <td>2021</td>\n",
       "      <td>4</td>\n",
       "    </tr>\n",
       "    <tr>\n",
       "      <th>1</th>\n",
       "      <td>0_1421</td>\n",
       "      <td>19.99</td>\n",
       "      <td>0.0</td>\n",
       "      <td>c_2167</td>\n",
       "      <td>f</td>\n",
       "      <td>1960.0</td>\n",
       "      <td>2021-11-24 00:28:06.088699</td>\n",
       "      <td>s_124134</td>\n",
       "      <td>2021-11-01</td>\n",
       "      <td>62.0</td>\n",
       "      <td>2021</td>\n",
       "      <td>11</td>\n",
       "    </tr>\n",
       "    <tr>\n",
       "      <th>2</th>\n",
       "      <td>0_1421</td>\n",
       "      <td>19.99</td>\n",
       "      <td>0.0</td>\n",
       "      <td>c_3060</td>\n",
       "      <td>m</td>\n",
       "      <td>1971.0</td>\n",
       "      <td>2021-04-06 09:35:05.954975</td>\n",
       "      <td>s_16742</td>\n",
       "      <td>2021-04-01</td>\n",
       "      <td>51.0</td>\n",
       "      <td>2021</td>\n",
       "      <td>4</td>\n",
       "    </tr>\n",
       "    <tr>\n",
       "      <th>3</th>\n",
       "      <td>0_1421</td>\n",
       "      <td>19.99</td>\n",
       "      <td>0.0</td>\n",
       "      <td>c_7946</td>\n",
       "      <td>f</td>\n",
       "      <td>1987.0</td>\n",
       "      <td>2021-10-26 00:06:47.812612</td>\n",
       "      <td>s_110147</td>\n",
       "      <td>2021-10-01</td>\n",
       "      <td>35.0</td>\n",
       "      <td>2021</td>\n",
       "      <td>10</td>\n",
       "    </tr>\n",
       "    <tr>\n",
       "      <th>4</th>\n",
       "      <td>0_1421</td>\n",
       "      <td>19.99</td>\n",
       "      <td>0.0</td>\n",
       "      <td>c_1934</td>\n",
       "      <td>f</td>\n",
       "      <td>2004.0</td>\n",
       "      <td>2021-12-23 00:10:38.256002</td>\n",
       "      <td>s_138491</td>\n",
       "      <td>2021-12-01</td>\n",
       "      <td>18.0</td>\n",
       "      <td>2021</td>\n",
       "      <td>12</td>\n",
       "    </tr>\n",
       "  </tbody>\n",
       "</table>\n",
       "</div>"
      ],
      "text/plain": [
       "  id_prod  price  categ client_id sex   birth                        date  \\\n",
       "0  0_1421  19.99    0.0    c_5152   f  1986.0  2021-04-17 06:09:37.424812   \n",
       "1  0_1421  19.99    0.0    c_2167   f  1960.0  2021-11-24 00:28:06.088699   \n",
       "2  0_1421  19.99    0.0    c_3060   m  1971.0  2021-04-06 09:35:05.954975   \n",
       "3  0_1421  19.99    0.0    c_7946   f  1987.0  2021-10-26 00:06:47.812612   \n",
       "4  0_1421  19.99    0.0    c_1934   f  2004.0  2021-12-23 00:10:38.256002   \n",
       "\n",
       "  session_id mois_annee   age  annee  mois  \n",
       "0    s_21727 2021-04-01  36.0   2021     4  \n",
       "1   s_124134 2021-11-01  62.0   2021    11  \n",
       "2    s_16742 2021-04-01  51.0   2021     4  \n",
       "3   s_110147 2021-10-01  35.0   2021    10  \n",
       "4   s_138491 2021-12-01  18.0   2021    12  "
      ]
     },
     "execution_count": 91,
     "metadata": {},
     "output_type": "execute_result"
    }
   ],
   "source": [
    "df['mois_annee']= pd.to_datetime(df['mois_annee'])\n",
    "df['annee'] = df['mois_annee'].dt.year \n",
    "df['mois'] = df['mois_annee'].dt.month\n",
    "df.head()"
   ]
  },
  {
   "cell_type": "markdown",
   "id": "cb80feaa",
   "metadata": {},
   "source": [
    "## Analyse univariée "
   ]
  },
  {
   "cell_type": "code",
   "execution_count": 92,
   "id": "8acceea4",
   "metadata": {},
   "outputs": [
    {
     "name": "stdout",
     "output_type": "stream",
     "text": [
      "<class 'pandas.core.frame.DataFrame'>\n",
      "RangeIndex: 336816 entries, 0 to 336815\n",
      "Data columns (total 12 columns):\n",
      " #   Column      Non-Null Count   Dtype         \n",
      "---  ------      --------------   -----         \n",
      " 0   id_prod     336816 non-null  object        \n",
      " 1   price       336816 non-null  float64       \n",
      " 2   categ       336816 non-null  float64       \n",
      " 3   client_id   336816 non-null  object        \n",
      " 4   sex         336816 non-null  object        \n",
      " 5   birth       336816 non-null  float64       \n",
      " 6   date        336816 non-null  object        \n",
      " 7   session_id  336816 non-null  object        \n",
      " 8   mois_annee  336816 non-null  datetime64[ns]\n",
      " 9   age         336816 non-null  float64       \n",
      " 10  annee       336816 non-null  int64         \n",
      " 11  mois        336816 non-null  int64         \n",
      "dtypes: datetime64[ns](1), float64(4), int64(2), object(5)\n",
      "memory usage: 30.8+ MB\n"
     ]
    }
   ],
   "source": [
    "df.info()"
   ]
  },
  {
   "cell_type": "markdown",
   "id": "f53d7282",
   "metadata": {},
   "source": [
    "## Analyse démographique"
   ]
  },
  {
   "cell_type": "code",
   "execution_count": 93,
   "id": "80a7f0c5",
   "metadata": {},
   "outputs": [
    {
     "data": {
      "image/png": "[encoded data removed]",
      "text/plain": [
       "<Figure size 432x288 with 1 Axes>"
      ]
     },
     "metadata": {},
     "output_type": "display_data"
    }
   ],
   "source": [
    "df['sex'].value_counts().plot.pie(autopct='%1.1f%%')\n",
    "plt.title('Répartition des clients par sexe')\n",
    "plt.show()"
   ]
  },
  {
   "cell_type": "raw",
   "id": "efaf8d4a",
   "metadata": {},
   "source": [
    "Le graphique ci-dessus décrit la répartition des clients de l'e/se par genre. il y a autant de femmes que d'hommes"
   ]
  },
  {
   "cell_type": "code",
   "execution_count": 94,
   "id": "7e771341",
   "metadata": {},
   "outputs": [
    {
     "data": {
      "image/png": "[encoded data removed]",
      "text/plain": [
       "<Figure size 432x288 with 1 Axes>"
      ]
     },
     "metadata": {
      "needs_background": "light"
     },
     "output_type": "display_data"
    }
   ],
   "source": [
    "df['age'].hist()\n",
    "plt.ylabel('nombre de personnes')\n",
    "plt.xlabel('âge')\n",
    "plt.title('Répartition des clients par âge')\n",
    "plt.show()"
   ]
  },
  {
   "cell_type": "raw",
   "id": "7330b32b",
   "metadata": {},
   "source": [
    "Le graphique ci-dessus montre la répartition des clients par âge, plus que la moitié a un âge entre 18 et 55 ans. "
   ]
  },
  {
   "cell_type": "markdown",
   "id": "7a48e18a",
   "metadata": {},
   "source": [
    "### Analyse du CA "
   ]
  },
  {
   "cell_type": "code",
   "execution_count": 95,
   "id": "cf590b84",
   "metadata": {},
   "outputs": [
    {
     "name": "stdout",
     "output_type": "stream",
     "text": [
      "l'entreprise a réalisé un chiffre d'affaires total de  : 5797673.248771481\n"
     ]
    }
   ],
   "source": [
    "ca = df['price'].sum()\n",
    "print(f\"l'entreprise a réalisé un chiffre d'affaires total de  : {ca}\")"
   ]
  },
  {
   "cell_type": "raw",
   "id": "8cc4a1b2",
   "metadata": {},
   "source": []
  },
  {
   "cell_type": "code",
   "execution_count": 96,
   "id": "8892561e",
   "metadata": {},
   "outputs": [
    {
     "data": {
      "text/html": [
       "<div>\n",
       "<style scoped>\n",
       "    .dataframe tbody tr th:only-of-type {\n",
       "        vertical-align: middle;\n",
       "    }\n",
       "\n",
       "    .dataframe tbody tr th {\n",
       "        vertical-align: top;\n",
       "    }\n",
       "\n",
       "    .dataframe thead th {\n",
       "        text-align: right;\n",
       "    }\n",
       "</style>\n",
       "<table border=\"1\" class=\"dataframe\">\n",
       "  <thead>\n",
       "    <tr style=\"text-align: right;\">\n",
       "      <th></th>\n",
       "      <th>mois_annee</th>\n",
       "      <th>price</th>\n",
       "    </tr>\n",
       "  </thead>\n",
       "  <tbody>\n",
       "    <tr>\n",
       "      <th>0</th>\n",
       "      <td>2021-03-01</td>\n",
       "      <td>479407.751446</td>\n",
       "    </tr>\n",
       "    <tr>\n",
       "      <th>1</th>\n",
       "      <td>2021-04-01</td>\n",
       "      <td>473129.620027</td>\n",
       "    </tr>\n",
       "    <tr>\n",
       "      <th>2</th>\n",
       "      <td>2021-05-01</td>\n",
       "      <td>489453.035730</td>\n",
       "    </tr>\n",
       "    <tr>\n",
       "      <th>3</th>\n",
       "      <td>2021-06-01</td>\n",
       "      <td>481332.390014</td>\n",
       "    </tr>\n",
       "    <tr>\n",
       "      <th>4</th>\n",
       "      <td>2021-07-01</td>\n",
       "      <td>480941.202865</td>\n",
       "    </tr>\n",
       "    <tr>\n",
       "      <th>5</th>\n",
       "      <td>2021-08-01</td>\n",
       "      <td>479400.911446</td>\n",
       "    </tr>\n",
       "    <tr>\n",
       "      <th>6</th>\n",
       "      <td>2021-09-01</td>\n",
       "      <td>502898.908595</td>\n",
       "    </tr>\n",
       "    <tr>\n",
       "      <th>7</th>\n",
       "      <td>2021-10-01</td>\n",
       "      <td>319234.410014</td>\n",
       "    </tr>\n",
       "    <tr>\n",
       "      <th>8</th>\n",
       "      <td>2021-11-01</td>\n",
       "      <td>512996.527162</td>\n",
       "    </tr>\n",
       "    <tr>\n",
       "      <th>9</th>\n",
       "      <td>2021-12-01</td>\n",
       "      <td>523012.130013</td>\n",
       "    </tr>\n",
       "    <tr>\n",
       "      <th>10</th>\n",
       "      <td>2022-01-01</td>\n",
       "      <td>523008.488581</td>\n",
       "    </tr>\n",
       "    <tr>\n",
       "      <th>11</th>\n",
       "      <td>2022-02-01</td>\n",
       "      <td>532857.872878</td>\n",
       "    </tr>\n",
       "  </tbody>\n",
       "</table>\n",
       "</div>"
      ],
      "text/plain": [
       "   mois_annee          price\n",
       "0  2021-03-01  479407.751446\n",
       "1  2021-04-01  473129.620027\n",
       "2  2021-05-01  489453.035730\n",
       "3  2021-06-01  481332.390014\n",
       "4  2021-07-01  480941.202865\n",
       "5  2021-08-01  479400.911446\n",
       "6  2021-09-01  502898.908595\n",
       "7  2021-10-01  319234.410014\n",
       "8  2021-11-01  512996.527162\n",
       "9  2021-12-01  523012.130013\n",
       "10 2022-01-01  523008.488581\n",
       "11 2022-02-01  532857.872878"
      ]
     },
     "execution_count": 96,
     "metadata": {},
     "output_type": "execute_result"
    }
   ],
   "source": [
    "ca_mois = df[['mois_annee', 'price']].groupby(by='mois_annee').sum()\n",
    "ca_mois.reset_index()"
   ]
  },
  {
   "cell_type": "code",
   "execution_count": 97,
   "id": "319ce662",
   "metadata": {},
   "outputs": [
    {
     "data": {
      "image/png": "[encoded data removed]",
      "text/plain": [
       "<Figure size 432x288 with 1 Axes>"
      ]
     },
     "metadata": {
      "needs_background": "light"
     },
     "output_type": "display_data"
    }
   ],
   "source": [
    "plt.plot(ca_mois)\n",
    "plt.xlabel('mois et année')\n",
    "plt.ylabel('ca par mois')\n",
    "plt.title('Evolution du ca par mois entre 2021 - 2022')\n",
    "plt.show()"
   ]
  },
  {
   "cell_type": "raw",
   "id": "c24889f0",
   "metadata": {},
   "source": [
    "le phraphique ci-dessus montre l'évolution du ca par mois entre l'année 2021 et 2022. Nous remarquons que l'évolution est positive entre les deux années, mise à par le mois 09/21, 10/21 et 11/21. "
   ]
  },
  {
   "cell_type": "code",
   "execution_count": 98,
   "id": "de5e76a3",
   "metadata": {
    "scrolled": true
   },
   "outputs": [
    {
     "data": {
      "text/html": [
       "<div>\n",
       "<style scoped>\n",
       "    .dataframe tbody tr th:only-of-type {\n",
       "        vertical-align: middle;\n",
       "    }\n",
       "\n",
       "    .dataframe tbody tr th {\n",
       "        vertical-align: top;\n",
       "    }\n",
       "\n",
       "    .dataframe thead th {\n",
       "        text-align: right;\n",
       "    }\n",
       "</style>\n",
       "<table border=\"1\" class=\"dataframe\">\n",
       "  <thead>\n",
       "    <tr style=\"text-align: right;\">\n",
       "      <th></th>\n",
       "      <th>age</th>\n",
       "      <th>price</th>\n",
       "    </tr>\n",
       "  </thead>\n",
       "  <tbody>\n",
       "    <tr>\n",
       "      <th>0</th>\n",
       "      <td>18.0</td>\n",
       "      <td>295387.980000</td>\n",
       "    </tr>\n",
       "    <tr>\n",
       "      <th>1</th>\n",
       "      <td>19.0</td>\n",
       "      <td>88461.390000</td>\n",
       "    </tr>\n",
       "    <tr>\n",
       "      <th>2</th>\n",
       "      <td>20.0</td>\n",
       "      <td>89920.655716</td>\n",
       "    </tr>\n",
       "    <tr>\n",
       "      <th>3</th>\n",
       "      <td>21.0</td>\n",
       "      <td>84881.480000</td>\n",
       "    </tr>\n",
       "    <tr>\n",
       "      <th>4</th>\n",
       "      <td>22.0</td>\n",
       "      <td>80110.555716</td>\n",
       "    </tr>\n",
       "  </tbody>\n",
       "</table>\n",
       "</div>"
      ],
      "text/plain": [
       "    age          price\n",
       "0  18.0  295387.980000\n",
       "1  19.0   88461.390000\n",
       "2  20.0   89920.655716\n",
       "3  21.0   84881.480000\n",
       "4  22.0   80110.555716"
      ]
     },
     "execution_count": 98,
     "metadata": {},
     "output_type": "execute_result"
    }
   ],
   "source": [
    "ca_age= df[['age', 'price']].groupby(by='age').sum().reset_index()\n",
    "ca_age.head()"
   ]
  },
  {
   "cell_type": "code",
   "execution_count": 99,
   "id": "60876e59",
   "metadata": {},
   "outputs": [
    {
     "data": {
      "text/plain": [
       "<AxesSubplot:xlabel='age', ylabel='price'>"
      ]
     },
     "execution_count": 99,
     "metadata": {},
     "output_type": "execute_result"
    },
    {
     "data": {
      "image/png": "[encoded data removed]",
      "text/plain": [
       "<Figure size 432x288 with 1 Axes>"
      ]
     },
     "metadata": {
      "needs_background": "light"
     },
     "output_type": "display_data"
    }
   ],
   "source": [
    "sns.scatterplot(data=ca_age, x=\"age\", y=\"price\", hue=\"age\")"
   ]
  },
  {
   "cell_type": "raw",
   "id": "00781a17",
   "metadata": {},
   "source": [
    "Le graphique ci-dessus montre la distribution des clients de l'entreprise par age. Plus que la majorité des clients ont un age entre 18 et 50 ans. "
   ]
  },
  {
   "cell_type": "code",
   "execution_count": null,
   "id": "117c2051",
   "metadata": {},
   "outputs": [],
   "source": []
  },
  {
   "cell_type": "code",
   "execution_count": 100,
   "id": "d7ae9521",
   "metadata": {
    "scrolled": true
   },
   "outputs": [
    {
     "data": {
      "text/html": [
       "<div>\n",
       "<style scoped>\n",
       "    .dataframe tbody tr th:only-of-type {\n",
       "        vertical-align: middle;\n",
       "    }\n",
       "\n",
       "    .dataframe tbody tr th {\n",
       "        vertical-align: top;\n",
       "    }\n",
       "\n",
       "    .dataframe thead th {\n",
       "        text-align: right;\n",
       "    }\n",
       "</style>\n",
       "<table border=\"1\" class=\"dataframe\">\n",
       "  <thead>\n",
       "    <tr style=\"text-align: right;\">\n",
       "      <th></th>\n",
       "      <th>sex</th>\n",
       "      <th>price</th>\n",
       "    </tr>\n",
       "  </thead>\n",
       "  <tbody>\n",
       "    <tr>\n",
       "      <th>0</th>\n",
       "      <td>f</td>\n",
       "      <td>17.065552</td>\n",
       "    </tr>\n",
       "    <tr>\n",
       "      <th>1</th>\n",
       "      <td>m</td>\n",
       "      <td>17.359348</td>\n",
       "    </tr>\n",
       "  </tbody>\n",
       "</table>\n",
       "</div>"
      ],
      "text/plain": [
       "  sex      price\n",
       "0   f  17.065552\n",
       "1   m  17.359348"
      ]
     },
     "execution_count": 100,
     "metadata": {},
     "output_type": "execute_result"
    }
   ],
   "source": [
    "ca_sex = df[['sex', 'price']].groupby(by='sex').mean().reset_index()\n",
    "ca_sex.head()"
   ]
  },
  {
   "cell_type": "code",
   "execution_count": 101,
   "id": "b5a66427",
   "metadata": {},
   "outputs": [
    {
     "data": {
      "text/plain": [
       "<AxesSubplot:xlabel='sex', ylabel='price'>"
      ]
     },
     "execution_count": 101,
     "metadata": {},
     "output_type": "execute_result"
    },
    {
     "data": {
      "image/png": "[encoded data removed]",
      "text/plain": [
       "<Figure size 432x288 with 1 Axes>"
      ]
     },
     "metadata": {
      "needs_background": "light"
     },
     "output_type": "display_data"
    }
   ],
   "source": [
    "sns.boxplot(x=\"sex\", y=\"price\", data=df[['sex','price']])"
   ]
  },
  {
   "cell_type": "code",
   "execution_count": 102,
   "id": "1db0ecca",
   "metadata": {},
   "outputs": [
    {
     "data": {
      "image/png": "[encoded data removed]",
      "text/plain": [
       "<Figure size 432x288 with 1 Axes>"
      ]
     },
     "metadata": {
      "needs_background": "light"
     },
     "output_type": "display_data"
    }
   ],
   "source": [
    "plt.bar(ca_sex['sex'], ca_sex['price'])\n",
    "plt.xlabel('sex')\n",
    "plt.ylabel('price')\n",
    "plt.title('Ca par sex')\n",
    "plt.show()"
   ]
  },
  {
   "cell_type": "raw",
   "id": "4441ebca",
   "metadata": {},
   "source": [
    "Les graphiques ci-dessus montrent que les paniers moyens des clients hommes et femmes sont égaux "
   ]
  },
  {
   "cell_type": "code",
   "execution_count": 103,
   "id": "4fca30a1",
   "metadata": {},
   "outputs": [
    {
     "data": {
      "text/html": [
       "<div>\n",
       "<style scoped>\n",
       "    .dataframe tbody tr th:only-of-type {\n",
       "        vertical-align: middle;\n",
       "    }\n",
       "\n",
       "    .dataframe tbody tr th {\n",
       "        vertical-align: top;\n",
       "    }\n",
       "\n",
       "    .dataframe thead th {\n",
       "        text-align: right;\n",
       "    }\n",
       "</style>\n",
       "<table border=\"1\" class=\"dataframe\">\n",
       "  <thead>\n",
       "    <tr style=\"text-align: right;\">\n",
       "      <th></th>\n",
       "      <th>session_id</th>\n",
       "      <th>price</th>\n",
       "    </tr>\n",
       "  </thead>\n",
       "  <tbody>\n",
       "    <tr>\n",
       "      <th>0</th>\n",
       "      <td>s_1</td>\n",
       "      <td>11.990000</td>\n",
       "    </tr>\n",
       "    <tr>\n",
       "      <th>1</th>\n",
       "      <td>s_10</td>\n",
       "      <td>26.990000</td>\n",
       "    </tr>\n",
       "    <tr>\n",
       "      <th>2</th>\n",
       "      <td>s_100</td>\n",
       "      <td>16.860000</td>\n",
       "    </tr>\n",
       "    <tr>\n",
       "      <th>3</th>\n",
       "      <td>s_1000</td>\n",
       "      <td>9.805000</td>\n",
       "    </tr>\n",
       "    <tr>\n",
       "      <th>4</th>\n",
       "      <td>s_10000</td>\n",
       "      <td>13.830000</td>\n",
       "    </tr>\n",
       "    <tr>\n",
       "      <th>...</th>\n",
       "      <td>...</td>\n",
       "      <td>...</td>\n",
       "    </tr>\n",
       "    <tr>\n",
       "      <th>169189</th>\n",
       "      <td>s_99994</td>\n",
       "      <td>9.640000</td>\n",
       "    </tr>\n",
       "    <tr>\n",
       "      <th>169190</th>\n",
       "      <td>s_99995</td>\n",
       "      <td>19.840000</td>\n",
       "    </tr>\n",
       "    <tr>\n",
       "      <th>169191</th>\n",
       "      <td>s_99996</td>\n",
       "      <td>14.067500</td>\n",
       "    </tr>\n",
       "    <tr>\n",
       "      <th>169192</th>\n",
       "      <td>s_99997</td>\n",
       "      <td>6.990000</td>\n",
       "    </tr>\n",
       "    <tr>\n",
       "      <th>169193</th>\n",
       "      <td>s_99998</td>\n",
       "      <td>11.703333</td>\n",
       "    </tr>\n",
       "  </tbody>\n",
       "</table>\n",
       "<p>169194 rows × 2 columns</p>\n",
       "</div>"
      ],
      "text/plain": [
       "       session_id      price\n",
       "0             s_1  11.990000\n",
       "1            s_10  26.990000\n",
       "2           s_100  16.860000\n",
       "3          s_1000   9.805000\n",
       "4         s_10000  13.830000\n",
       "...           ...        ...\n",
       "169189    s_99994   9.640000\n",
       "169190    s_99995  19.840000\n",
       "169191    s_99996  14.067500\n",
       "169192    s_99997   6.990000\n",
       "169193    s_99998  11.703333\n",
       "\n",
       "[169194 rows x 2 columns]"
      ]
     },
     "execution_count": 103,
     "metadata": {},
     "output_type": "execute_result"
    }
   ],
   "source": [
    "ca_session = df.groupby(by='session_id').mean()['price'].reset_index()\n",
    "ca_session"
   ]
  },
  {
   "cell_type": "code",
   "execution_count": 104,
   "id": "39d65c73",
   "metadata": {},
   "outputs": [
    {
     "name": "stderr",
     "output_type": "stream",
     "text": [
      "C:\\Users\\sfakh\\anaconda3\\lib\\site-packages\\seaborn\\distributions.py:2557: FutureWarning: `distplot` is a deprecated function and will be removed in a future version. Please adapt your code to use either `displot` (a figure-level function with similar flexibility) or `histplot` (an axes-level function for histograms).\n",
      "  warnings.warn(msg, FutureWarning)\n"
     ]
    },
    {
     "data": {
      "text/plain": [
       "<AxesSubplot:xlabel='price', ylabel='Density'>"
      ]
     },
     "execution_count": 104,
     "metadata": {},
     "output_type": "execute_result"
    },
    {
     "data": {
      "image/png": "[encoded data removed]",
      "text/plain": [
       "<Figure size 432x288 with 1 Axes>"
      ]
     },
     "metadata": {
      "needs_background": "light"
     },
     "output_type": "display_data"
    }
   ],
   "source": [
    "sns.distplot(ca_session['price'])"
   ]
  },
  {
   "cell_type": "code",
   "execution_count": null,
   "id": "dd528c32",
   "metadata": {},
   "outputs": [],
   "source": []
  },
  {
   "cell_type": "markdown",
   "id": "f00b3152",
   "metadata": {},
   "source": [
    "## CA PAR CATEGORIE"
   ]
  },
  {
   "cell_type": "code",
   "execution_count": 105,
   "id": "5242f064",
   "metadata": {},
   "outputs": [
    {
     "data": {
      "text/plain": [
       "categ\n",
       "0.0    2.230818e+06\n",
       "1.0    2.247384e+06\n",
       "2.0    1.319471e+06\n",
       "Name: price, dtype: float64"
      ]
     },
     "execution_count": 105,
     "metadata": {},
     "output_type": "execute_result"
    }
   ],
   "source": [
    "ca_categ = df.groupby(by='categ').sum()['price']\n",
    "ca_categ"
   ]
  },
  {
   "cell_type": "code",
   "execution_count": 106,
   "id": "ef04b8dd",
   "metadata": {},
   "outputs": [
    {
     "data": {
      "text/plain": [
       "<AxesSubplot:xlabel='categ'>"
      ]
     },
     "execution_count": 106,
     "metadata": {},
     "output_type": "execute_result"
    },
    {
     "data": {
      "image/png": "[encoded data removed]",
      "text/plain": [
       "<Figure size 432x288 with 1 Axes>"
      ]
     },
     "metadata": {
      "needs_background": "light"
     },
     "output_type": "display_data"
    }
   ],
   "source": [
    "ca_categ.plot(kind='bar')"
   ]
  },
  {
   "cell_type": "code",
   "execution_count": 107,
   "id": "44cc0949",
   "metadata": {},
   "outputs": [
    {
     "data": {
      "text/plain": [
       "<AxesSubplot:xlabel='categ', ylabel='count'>"
      ]
     },
     "execution_count": 107,
     "metadata": {},
     "output_type": "execute_result"
    },
    {
     "data": {
      "image/png": "[encoded data removed]",
      "text/plain": [
       "<Figure size 432x288 with 1 Axes>"
      ]
     },
     "metadata": {
      "needs_background": "light"
     },
     "output_type": "display_data"
    }
   ],
   "source": [
    "sns.countplot(x=\"categ\", data=df, palette=\"Set3\", hue=\"categ\")"
   ]
  },
  {
   "cell_type": "raw",
   "id": "e3295c44",
   "metadata": {},
   "source": [
    "Le graphique ci-dessus montre le volume des ventes par catégorie. La catégorie la plus vendue est la catégorie \" 0\" , et la moins vendue est la catégorie \"2\". "
   ]
  },
  {
   "cell_type": "markdown",
   "id": "5f8748be",
   "metadata": {},
   "source": [
    " \n"
   ]
  },
  {
   "cell_type": "markdown",
   "id": "93d759fc",
   "metadata": {},
   "source": [
    "## moyenne du CA par categorie "
   ]
  },
  {
   "cell_type": "code",
   "execution_count": 108,
   "id": "b5d62b2f",
   "metadata": {},
   "outputs": [
    {
     "data": {
      "text/html": [
       "<div>\n",
       "<style scoped>\n",
       "    .dataframe tbody tr th:only-of-type {\n",
       "        vertical-align: middle;\n",
       "    }\n",
       "\n",
       "    .dataframe tbody tr th {\n",
       "        vertical-align: top;\n",
       "    }\n",
       "\n",
       "    .dataframe thead th {\n",
       "        text-align: right;\n",
       "    }\n",
       "</style>\n",
       "<table border=\"1\" class=\"dataframe\">\n",
       "  <thead>\n",
       "    <tr style=\"text-align: right;\">\n",
       "      <th></th>\n",
       "      <th>categ</th>\n",
       "      <th>price</th>\n",
       "    </tr>\n",
       "  </thead>\n",
       "  <tbody>\n",
       "    <tr>\n",
       "      <th>0</th>\n",
       "      <td>0.0</td>\n",
       "      <td>10.646823</td>\n",
       "    </tr>\n",
       "    <tr>\n",
       "      <th>1</th>\n",
       "      <td>1.0</td>\n",
       "      <td>20.480106</td>\n",
       "    </tr>\n",
       "    <tr>\n",
       "      <th>2</th>\n",
       "      <td>2.0</td>\n",
       "      <td>75.174949</td>\n",
       "    </tr>\n",
       "  </tbody>\n",
       "</table>\n",
       "</div>"
      ],
      "text/plain": [
       "   categ      price\n",
       "0    0.0  10.646823\n",
       "1    1.0  20.480106\n",
       "2    2.0  75.174949"
      ]
     },
     "execution_count": 108,
     "metadata": {},
     "output_type": "execute_result"
    }
   ],
   "source": [
    "ca_categ = df[['categ','price']].groupby(by=['categ']).mean().reset_index()\n",
    "ca_categ"
   ]
  },
  {
   "cell_type": "code",
   "execution_count": 109,
   "id": "dc6ce2f8",
   "metadata": {},
   "outputs": [
    {
     "data": {
      "text/plain": [
       "<AxesSubplot:xlabel='categ', ylabel='price'>"
      ]
     },
     "execution_count": 109,
     "metadata": {},
     "output_type": "execute_result"
    },
    {
     "data": {
      "image/png": "[encoded data removed]",
      "text/plain": [
       "<Figure size 432x288 with 1 Axes>"
      ]
     },
     "metadata": {
      "needs_background": "light"
     },
     "output_type": "display_data"
    }
   ],
   "source": [
    "sns.barplot(x=\"categ\", y=\"price\", data=ca_categ, hue=\"categ\")"
   ]
  },
  {
   "cell_type": "raw",
   "id": "3099558d",
   "metadata": {},
   "source": [
    "Le graphique ci-dessus montre la moyenne du chiffre d'affaires par catégorie de produits. La catégorie qui réalise le plus de ventes est la catégorie \"2\" et la catégorie qui réalise le moins de ventes est la catégorie \"0\"."
   ]
  },
  {
   "cell_type": "markdown",
   "id": "90ac3a1f",
   "metadata": {},
   "source": []
  },
  {
   "cell_type": "raw",
   "id": "a238c11c",
   "metadata": {},
   "source": [
    "Afin de décrire et comprendre les facteurs qui influencent les ventes de l'entreprise, nous nous voyons devoir émettre des hypothèses :\n",
    "\n",
    "(H0) Il existe une corrélation entre le sexe des clients et les catégories de produits achetés \n",
    "(H1) Il existe une une corrélation entre l'âge des clients et le montant total des achats \n",
    "(H2) Il existe une corrélation entre l'âge des clients et la fréquence d’achat (nombre d'achats par mois)\n",
    "(H3) Il existe une corrélation entre l'âge des clients et la taille du panier moyen (en nombre d’articles) \n",
    "(H4) Il existe une corrélation entre l'âge des clients et les catégories de produits achetés  "
   ]
  },
  {
   "cell_type": "markdown",
   "id": "028a5dea",
   "metadata": {},
   "source": [
    "## Correlation de l'ensemble des variables"
   ]
  },
  {
   "cell_type": "code",
   "execution_count": 110,
   "id": "75a907e2",
   "metadata": {},
   "outputs": [
    {
     "data": {
      "text/html": [
       "<div>\n",
       "<style scoped>\n",
       "    .dataframe tbody tr th:only-of-type {\n",
       "        vertical-align: middle;\n",
       "    }\n",
       "\n",
       "    .dataframe tbody tr th {\n",
       "        vertical-align: top;\n",
       "    }\n",
       "\n",
       "    .dataframe thead th {\n",
       "        text-align: right;\n",
       "    }\n",
       "</style>\n",
       "<table border=\"1\" class=\"dataframe\">\n",
       "  <thead>\n",
       "    <tr style=\"text-align: right;\">\n",
       "      <th></th>\n",
       "      <th>price</th>\n",
       "      <th>categ</th>\n",
       "      <th>birth</th>\n",
       "      <th>age</th>\n",
       "      <th>annee</th>\n",
       "      <th>mois</th>\n",
       "    </tr>\n",
       "  </thead>\n",
       "  <tbody>\n",
       "    <tr>\n",
       "      <th>price</th>\n",
       "      <td>1.000000</td>\n",
       "      <td>0.673373</td>\n",
       "      <td>0.211505</td>\n",
       "      <td>-0.211505</td>\n",
       "      <td>0.018522</td>\n",
       "      <td>-0.023020</td>\n",
       "    </tr>\n",
       "    <tr>\n",
       "      <th>categ</th>\n",
       "      <td>0.673373</td>\n",
       "      <td>1.000000</td>\n",
       "      <td>0.098602</td>\n",
       "      <td>-0.098602</td>\n",
       "      <td>0.054330</td>\n",
       "      <td>-0.036423</td>\n",
       "    </tr>\n",
       "    <tr>\n",
       "      <th>birth</th>\n",
       "      <td>0.211505</td>\n",
       "      <td>0.098602</td>\n",
       "      <td>1.000000</td>\n",
       "      <td>-1.000000</td>\n",
       "      <td>-0.007475</td>\n",
       "      <td>-0.004646</td>\n",
       "    </tr>\n",
       "    <tr>\n",
       "      <th>age</th>\n",
       "      <td>-0.211505</td>\n",
       "      <td>-0.098602</td>\n",
       "      <td>-1.000000</td>\n",
       "      <td>1.000000</td>\n",
       "      <td>0.007475</td>\n",
       "      <td>0.004646</td>\n",
       "    </tr>\n",
       "    <tr>\n",
       "      <th>annee</th>\n",
       "      <td>0.018522</td>\n",
       "      <td>0.054330</td>\n",
       "      <td>-0.007475</td>\n",
       "      <td>0.007475</td>\n",
       "      <td>1.000000</td>\n",
       "      <td>-0.651233</td>\n",
       "    </tr>\n",
       "  </tbody>\n",
       "</table>\n",
       "</div>"
      ],
      "text/plain": [
       "          price     categ     birth       age     annee      mois\n",
       "price  1.000000  0.673373  0.211505 -0.211505  0.018522 -0.023020\n",
       "categ  0.673373  1.000000  0.098602 -0.098602  0.054330 -0.036423\n",
       "birth  0.211505  0.098602  1.000000 -1.000000 -0.007475 -0.004646\n",
       "age   -0.211505 -0.098602 -1.000000  1.000000  0.007475  0.004646\n",
       "annee  0.018522  0.054330 -0.007475  0.007475  1.000000 -0.651233"
      ]
     },
     "execution_count": 110,
     "metadata": {},
     "output_type": "execute_result"
    }
   ],
   "source": [
    "df.corr().head()"
   ]
  },
  {
   "cell_type": "code",
   "execution_count": 111,
   "id": "bfe115bd",
   "metadata": {},
   "outputs": [],
   "source": [
    "# La méthode de correctation linéaire de Pearson "
   ]
  },
  {
   "cell_type": "code",
   "execution_count": 112,
   "id": "248c9ab7",
   "metadata": {},
   "outputs": [
    {
     "data": {
      "image/png": "[encoded data removed]",
      "text/plain": [
       "<Figure size 432x288 with 2 Axes>"
      ]
     },
     "metadata": {
      "needs_background": "light"
     },
     "output_type": "display_data"
    }
   ],
   "source": [
    "sns.heatmap(df.corr(), annot=True, fmt=\".1f\", cmap='Greens')\n",
    "plt.title('Corrélation HeatMap des variables')\n",
    "plt.savefig('matrice_corr.png')\n",
    "plt.show()"
   ]
  },
  {
   "cell_type": "raw",
   "id": "b5a473d0",
   "metadata": {},
   "source": [
    "Le graphique de corrélation ci-dessous montre une forte corrélation entre le prix et la catégorie, par ailleirs les autres indices ne donnent pas plus d'informations. Nous devons donc mener d'amples analyses."
   ]
  },
  {
   "cell_type": "markdown",
   "id": "1b0bd530",
   "metadata": {},
   "source": [
    "## Test de l'hypothèse \" il existe une correlation entre le ca et l'age\""
   ]
  },
  {
   "cell_type": "code",
   "execution_count": 113,
   "id": "5b82436a",
   "metadata": {},
   "outputs": [
    {
     "data": {
      "text/html": [
       "<div>\n",
       "<style scoped>\n",
       "    .dataframe tbody tr th:only-of-type {\n",
       "        vertical-align: middle;\n",
       "    }\n",
       "\n",
       "    .dataframe tbody tr th {\n",
       "        vertical-align: top;\n",
       "    }\n",
       "\n",
       "    .dataframe thead th {\n",
       "        text-align: right;\n",
       "    }\n",
       "</style>\n",
       "<table border=\"1\" class=\"dataframe\">\n",
       "  <thead>\n",
       "    <tr style=\"text-align: right;\">\n",
       "      <th>categ</th>\n",
       "      <th>0.0</th>\n",
       "      <th>1.0</th>\n",
       "      <th>2.0</th>\n",
       "    </tr>\n",
       "    <tr>\n",
       "      <th>sex</th>\n",
       "      <th></th>\n",
       "      <th></th>\n",
       "      <th></th>\n",
       "    </tr>\n",
       "  </thead>\n",
       "  <tbody>\n",
       "    <tr>\n",
       "      <th>f</th>\n",
       "      <td>103846</td>\n",
       "      <td>55469</td>\n",
       "      <td>8260</td>\n",
       "    </tr>\n",
       "    <tr>\n",
       "      <th>m</th>\n",
       "      <td>105683</td>\n",
       "      <td>54266</td>\n",
       "      <td>9292</td>\n",
       "    </tr>\n",
       "  </tbody>\n",
       "</table>\n",
       "</div>"
      ],
      "text/plain": [
       "categ     0.0    1.0   2.0\n",
       "sex                       \n",
       "f      103846  55469  8260\n",
       "m      105683  54266  9292"
      ]
     },
     "execution_count": 113,
     "metadata": {},
     "output_type": "execute_result"
    }
   ],
   "source": [
    "# Tableau de contingence \"Matrice des valeurs observées\"\n",
    "#Variables 'ca' et 'age' du dataframe df\n",
    "X = 'sex'\n",
    "Y = 'categ'\n",
    "\n",
    "# Calcul du tableau de contigence par la méthode \n",
    "c = df[[X, Y]].pivot_table(index=X, columns=Y, aggfunc=len) \n",
    "tx = df[X].value_counts()\n",
    "ty = df[Y].value_counts()\n",
    "\n",
    "#Copie du dataframe original\n",
    "cont = c.copy()\n",
    "cont"
   ]
  },
  {
   "cell_type": "code",
   "execution_count": 114,
   "id": "320ef411",
   "metadata": {},
   "outputs": [
    {
     "data": {
      "text/html": [
       "<div>\n",
       "<style scoped>\n",
       "    .dataframe tbody tr th:only-of-type {\n",
       "        vertical-align: middle;\n",
       "    }\n",
       "\n",
       "    .dataframe tbody tr th {\n",
       "        vertical-align: top;\n",
       "    }\n",
       "\n",
       "    .dataframe thead th {\n",
       "        text-align: right;\n",
       "    }\n",
       "</style>\n",
       "<table border=\"1\" class=\"dataframe\">\n",
       "  <thead>\n",
       "    <tr style=\"text-align: right;\">\n",
       "      <th></th>\n",
       "      <th>0.0</th>\n",
       "      <th>1.0</th>\n",
       "      <th>2.0</th>\n",
       "    </tr>\n",
       "  </thead>\n",
       "  <tbody>\n",
       "    <tr>\n",
       "      <th>m</th>\n",
       "      <td>105282.69883</td>\n",
       "      <td>55138.892259</td>\n",
       "      <td>8819.408912</td>\n",
       "    </tr>\n",
       "    <tr>\n",
       "      <th>f</th>\n",
       "      <td>104246.30117</td>\n",
       "      <td>54596.107741</td>\n",
       "      <td>8732.591088</td>\n",
       "    </tr>\n",
       "  </tbody>\n",
       "</table>\n",
       "</div>"
      ],
      "text/plain": [
       "            0.0           1.0          2.0\n",
       "m  105282.69883  55138.892259  8819.408912\n",
       "f  104246.30117  54596.107741  8732.591088"
      ]
     },
     "execution_count": 114,
     "metadata": {},
     "output_type": "execute_result"
    }
   ],
   "source": [
    "#Tableau de la \"Matrice des valeurs attendues\" \n",
    "#si l’hypothèse nulle était vraie.\n",
    "tx_df= pd.DataFrame(tx)\n",
    "ty_df = pd.DataFrame(ty)\n",
    "\n",
    "tx_df.columns = [\"s\"]\n",
    "ty_df.columns = [\"s\"]\n",
    "\n",
    "#Valeurs totales observées\n",
    "n = len(df)\n",
    "\n",
    "#Produit matriciel. On utilise pd.T pour pivoter une des deux séries.\n",
    "indep = (tx_df.dot(ty_df.T) / n)\n",
    "indep"
   ]
  },
  {
   "cell_type": "code",
   "execution_count": 115,
   "id": "8f1eb8ba",
   "metadata": {},
   "outputs": [
    {
     "data": {
      "text/html": [
       "<div>\n",
       "<style scoped>\n",
       "    .dataframe tbody tr th:only-of-type {\n",
       "        vertical-align: middle;\n",
       "    }\n",
       "\n",
       "    .dataframe tbody tr th {\n",
       "        vertical-align: top;\n",
       "    }\n",
       "\n",
       "    .dataframe thead th {\n",
       "        text-align: right;\n",
       "    }\n",
       "</style>\n",
       "<table border=\"1\" class=\"dataframe\">\n",
       "  <thead>\n",
       "    <tr style=\"text-align: right;\">\n",
       "      <th>categ</th>\n",
       "      <th>0.0</th>\n",
       "      <th>1.0</th>\n",
       "      <th>2.0</th>\n",
       "    </tr>\n",
       "  </thead>\n",
       "  <tbody>\n",
       "    <tr>\n",
       "      <th>f</th>\n",
       "      <td>1.537139</td>\n",
       "      <td>13.955956</td>\n",
       "      <td>25.575724</td>\n",
       "    </tr>\n",
       "    <tr>\n",
       "      <th>m</th>\n",
       "      <td>1.522007</td>\n",
       "      <td>13.818575</td>\n",
       "      <td>25.323958</td>\n",
       "    </tr>\n",
       "  </tbody>\n",
       "</table>\n",
       "</div>"
      ],
      "text/plain": [
       "categ       0.0        1.0        2.0\n",
       "f      1.537139  13.955956  25.575724\n",
       "m      1.522007  13.818575  25.323958"
      ]
     },
     "execution_count": 115,
     "metadata": {},
     "output_type": "execute_result"
    }
   ],
   "source": [
    "#Matrice \"écart au carré normalisé de la valeur attendue\n",
    "mesure = (c-indep)**2/indep\n",
    "mesure"
   ]
  },
  {
   "cell_type": "code",
   "execution_count": 116,
   "id": "c2f68ce6",
   "metadata": {},
   "outputs": [
    {
     "data": {
      "text/plain": [
       "81.73335807676145"
      ]
     },
     "execution_count": 116,
     "metadata": {},
     "output_type": "execute_result"
    }
   ],
   "source": [
    "#Calcul du Chi2\n",
    "#Comparaison des occurrences observées (celles déjà dans le tableau) avec les occurrences attendues.\n",
    "chi2 = mesure.sum().sum()\n",
    "chi2"
   ]
  },
  {
   "cell_type": "code",
   "execution_count": 117,
   "id": "f2cb4703",
   "metadata": {},
   "outputs": [
    {
     "data": {
      "image/png": "[encoded data removed]",
      "text/plain": [
       "<Figure size 432x288 with 2 Axes>"
      ]
     },
     "metadata": {
      "needs_background": "light"
     },
     "output_type": "display_data"
    }
   ],
   "source": [
    "#Corrélation entre sexe du client et la catégorie achetée \n",
    "table = (mesure/chi2)\n",
    "sns.heatmap(table, annot=True, cmap=\"plasma\", linewidths=0.1)\n",
    "\n",
    "plt.title('Sexe clients et Catégorie produits')\n",
    "plt.xlabel('Categ.')\n",
    "plt.ylabel('Sexe')\n",
    "plt.show()"
   ]
  },
  {
   "cell_type": "code",
   "execution_count": 119,
   "id": "c885f065",
   "metadata": {},
   "outputs": [
    {
     "data": {
      "text/plain": [
       "(81.73335807676145, 2, 1.7857752515034613e-18)"
      ]
     },
     "execution_count": 119,
     "metadata": {},
     "output_type": "execute_result"
    }
   ],
   "source": [
    "#Calcul du khi2 et de la p-value à partir de la matrice des valeurs observées avec scipy \n",
    "#Degré de liberté = (nombre de lignes – 1) X (nombre de colonnes – 1)\n",
    "chi2, pvalue, degrees, expected = st.chi2_contingency(cont)\n",
    "chi2, degrees, pvalue"
   ]
  },
  {
   "cell_type": "code",
   "execution_count": null,
   "id": "31124287",
   "metadata": {},
   "outputs": [],
   "source": []
  },
  {
   "cell_type": "markdown",
   "id": "77c1c9b9",
   "metadata": {},
   "source": [
    "## Corrélation entre l'âge clients et le montant total des achats"
   ]
  },
  {
   "cell_type": "code",
   "execution_count": 83,
   "id": "ccd9a799",
   "metadata": {},
   "outputs": [
    {
     "data": {
      "text/html": [
       "<div>\n",
       "<style scoped>\n",
       "    .dataframe tbody tr th:only-of-type {\n",
       "        vertical-align: middle;\n",
       "    }\n",
       "\n",
       "    .dataframe tbody tr th {\n",
       "        vertical-align: top;\n",
       "    }\n",
       "\n",
       "    .dataframe thead th {\n",
       "        text-align: right;\n",
       "    }\n",
       "</style>\n",
       "<table border=\"1\" class=\"dataframe\">\n",
       "  <thead>\n",
       "    <tr style=\"text-align: right;\">\n",
       "      <th></th>\n",
       "      <th>age</th>\n",
       "      <th>price</th>\n",
       "    </tr>\n",
       "  </thead>\n",
       "  <tbody>\n",
       "    <tr>\n",
       "      <th>75</th>\n",
       "      <td>93.0</td>\n",
       "      <td>1.300030</td>\n",
       "    </tr>\n",
       "    <tr>\n",
       "      <th>74</th>\n",
       "      <td>92.0</td>\n",
       "      <td>2.028350</td>\n",
       "    </tr>\n",
       "    <tr>\n",
       "      <th>73</th>\n",
       "      <td>91.0</td>\n",
       "      <td>1.432920</td>\n",
       "    </tr>\n",
       "    <tr>\n",
       "      <th>72</th>\n",
       "      <td>90.0</td>\n",
       "      <td>2.586090</td>\n",
       "    </tr>\n",
       "    <tr>\n",
       "      <th>71</th>\n",
       "      <td>89.0</td>\n",
       "      <td>2.642656</td>\n",
       "    </tr>\n",
       "  </tbody>\n",
       "</table>\n",
       "</div>"
      ],
      "text/plain": [
       "     age     price\n",
       "75  93.0  1.300030\n",
       "74  92.0  2.028350\n",
       "73  91.0  1.432920\n",
       "72  90.0  2.586090\n",
       "71  89.0  2.642656"
      ]
     },
     "execution_count": 83,
     "metadata": {},
     "output_type": "execute_result"
    }
   ],
   "source": [
    "# Calcul de la somme les ventes 'price'en fonction de l'âge des clients\n",
    "#Création d'une variable 'age_ca'\n",
    "age_ca = df.groupby('age').sum().reset_index()\n",
    "age_ca = age_ca[['age', 'price']].sort_values(by='age', ascending=False) \n",
    "age_ca['price'] = age_ca['price'] / 1000 \n",
    "\n",
    "age_ca.head()"
   ]
  },
  {
   "cell_type": "code",
   "execution_count": 126,
   "id": "8c15a76b",
   "metadata": {},
   "outputs": [
    {
     "data": {
      "image/png": "[encoded data removed]",
      "text/plain": [
       "<Figure size 432x288 with 1 Axes>"
      ]
     },
     "metadata": {
      "needs_background": "light"
     },
     "output_type": "display_data"
    }
   ],
   "source": [
    "#Visualisation avec un scatterplot (âge clients vs montant total des achats)\n",
    "plt.plot(age_ca[age_ca.price < 200].age, age_ca[age_ca.price < 200].price, 'o', color='green')\n",
    "\n",
    "plt.xlabel('age')\n",
    "plt.ylabel('Montant des achats (K€)')\n",
    "plt.title('Montant total des achats par âge du client')\n",
    "plt.show()"
   ]
  },
  {
   "cell_type": "code",
   "execution_count": 120,
   "id": "24981ab5",
   "metadata": {},
   "outputs": [
    {
     "data": {
      "text/plain": [
       "-0.7746364497494512"
      ]
     },
     "execution_count": 120,
     "metadata": {},
     "output_type": "execute_result"
    }
   ],
   "source": [
    "#Coefficient de corrélation linéaire de Pearson\n",
    "coef_age_ca = st.pearsonr(age_ca.age, age_ca.price)[0]\n",
    "coef_age_ca"
   ]
  },
  {
   "cell_type": "raw",
   "id": "de0f5e8f",
   "metadata": {},
   "source": [
    "Le coefficient de carrélation entre l'âge et le ca est négatif. De ce fait, on peut proposer que l'hypothèse que plus les clients sont agés plus le montant total de leur achat est faible. Or le coefficient est plus proche de -1 que de zéro. Par conséquent, on peut affirmer que plus les consommateurs sont agés plus le montant total de leur achat est faible.(forte correlation)"
   ]
  },
  {
   "cell_type": "markdown",
   "id": "a43adc85",
   "metadata": {},
   "source": [
    "## Corrélation entre l'âge clients et la fréquence d'achat"
   ]
  },
  {
   "cell_type": "code",
   "execution_count": 121,
   "id": "032a78f8",
   "metadata": {},
   "outputs": [
    {
     "data": {
      "text/html": [
       "<div>\n",
       "<style scoped>\n",
       "    .dataframe tbody tr th:only-of-type {\n",
       "        vertical-align: middle;\n",
       "    }\n",
       "\n",
       "    .dataframe tbody tr th {\n",
       "        vertical-align: top;\n",
       "    }\n",
       "\n",
       "    .dataframe thead th {\n",
       "        text-align: right;\n",
       "    }\n",
       "</style>\n",
       "<table border=\"1\" class=\"dataframe\">\n",
       "  <thead>\n",
       "    <tr style=\"text-align: right;\">\n",
       "      <th></th>\n",
       "      <th>age</th>\n",
       "      <th>session_id</th>\n",
       "      <th>freq</th>\n",
       "    </tr>\n",
       "  </thead>\n",
       "  <tbody>\n",
       "    <tr>\n",
       "      <th>75</th>\n",
       "      <td>93.0</td>\n",
       "      <td>86</td>\n",
       "      <td>0.000255</td>\n",
       "    </tr>\n",
       "    <tr>\n",
       "      <th>74</th>\n",
       "      <td>92.0</td>\n",
       "      <td>115</td>\n",
       "      <td>0.000341</td>\n",
       "    </tr>\n",
       "    <tr>\n",
       "      <th>73</th>\n",
       "      <td>91.0</td>\n",
       "      <td>84</td>\n",
       "      <td>0.000249</td>\n",
       "    </tr>\n",
       "    <tr>\n",
       "      <th>72</th>\n",
       "      <td>90.0</td>\n",
       "      <td>159</td>\n",
       "      <td>0.000472</td>\n",
       "    </tr>\n",
       "    <tr>\n",
       "      <th>71</th>\n",
       "      <td>89.0</td>\n",
       "      <td>164</td>\n",
       "      <td>0.000487</td>\n",
       "    </tr>\n",
       "    <tr>\n",
       "      <th>70</th>\n",
       "      <td>88.0</td>\n",
       "      <td>274</td>\n",
       "      <td>0.000814</td>\n",
       "    </tr>\n",
       "    <tr>\n",
       "      <th>69</th>\n",
       "      <td>87.0</td>\n",
       "      <td>144</td>\n",
       "      <td>0.000428</td>\n",
       "    </tr>\n",
       "    <tr>\n",
       "      <th>68</th>\n",
       "      <td>86.0</td>\n",
       "      <td>387</td>\n",
       "      <td>0.001149</td>\n",
       "    </tr>\n",
       "    <tr>\n",
       "      <th>67</th>\n",
       "      <td>85.0</td>\n",
       "      <td>454</td>\n",
       "      <td>0.001348</td>\n",
       "    </tr>\n",
       "    <tr>\n",
       "      <th>66</th>\n",
       "      <td>84.0</td>\n",
       "      <td>431</td>\n",
       "      <td>0.001280</td>\n",
       "    </tr>\n",
       "  </tbody>\n",
       "</table>\n",
       "</div>"
      ],
      "text/plain": [
       "     age  session_id      freq\n",
       "75  93.0          86  0.000255\n",
       "74  92.0         115  0.000341\n",
       "73  91.0          84  0.000249\n",
       "72  90.0         159  0.000472\n",
       "71  89.0         164  0.000487\n",
       "70  88.0         274  0.000814\n",
       "69  87.0         144  0.000428\n",
       "68  86.0         387  0.001149\n",
       "67  85.0         454  0.001348\n",
       "66  84.0         431  0.001280"
      ]
     },
     "execution_count": 121,
     "metadata": {},
     "output_type": "execute_result"
    }
   ],
   "source": [
    "# Nombre d'achat mensuel = la somme des des sessions clients par mois\n",
    "customers_freq = df.groupby('age').count().reset_index()\n",
    "customers_freq = customers_freq[['age', 'session_id']]\n",
    "\n",
    "#Création d'une variable fréquence 'freq'\n",
    "customers_freq['freq'] = customers_freq['session_id'] / sum(customers_freq['session_id'])\n",
    "customers_freq.sort_values(by='age', ascending=False).head(10)"
   ]
  },
  {
   "cell_type": "code",
   "execution_count": 124,
   "id": "dd4e1361",
   "metadata": {},
   "outputs": [
    {
     "data": {
      "image/png": "[encoded data removed]",
      "text/plain": [
       "<Figure size 432x288 with 1 Axes>"
      ]
     },
     "metadata": {
      "needs_background": "light"
     },
     "output_type": "display_data"
    }
   ],
   "source": [
    "#Visualisation du scatterplot (fréquence d'achat mensuelle par âge)\n",
    "plt.plot(customers_freq[customers_freq.freq < .05].age, customers_freq[customers_freq.freq < .05].freq, 'o')\n",
    "\n",
    "plt.xlabel('age')\n",
    "plt.ylabel('Fréquence achat')\n",
    "plt.title('Fréquence des achats par âge du client')\n",
    "\n",
    "plt.show()"
   ]
  },
  {
   "cell_type": "raw",
   "id": "fc2bddcc",
   "metadata": {},
   "source": [
    "scatterplot ci-dessus montre que plus l'âge est inférieure plus la fréquence d'achet agmente en parelle. En effet, il existe une forte corréalation entre l'âge du client et sa fréquence d'achat. "
   ]
  },
  {
   "cell_type": "code",
   "execution_count": 125,
   "id": "3a5dfd83",
   "metadata": {},
   "outputs": [
    {
     "data": {
      "text/plain": [
       "-0.5292577207740388"
      ]
     },
     "execution_count": 125,
     "metadata": {},
     "output_type": "execute_result"
    }
   ],
   "source": [
    "#Coefficient de corrélation linéaire de Pearson\n",
    "coef_customers_freq = st.pearsonr(customers_freq.age, customers_freq.freq)[0]\n",
    "coef_customers_freq"
   ]
  },
  {
   "cell_type": "raw",
   "id": "a961218e",
   "metadata": {},
   "source": [
    "le coefiscient de pearson p= -0.5 confirme l'hypothèse. cette tendance est visible chez les groupe de 18 à 30 ans et de 30 à 50 ans "
   ]
  },
  {
   "cell_type": "markdown",
   "id": "05ee4376",
   "metadata": {},
   "source": [
    "## Corrélation entre l'âge clients et la taille du panier moyen"
   ]
  },
  {
   "cell_type": "code",
   "execution_count": 131,
   "id": "78b71009",
   "metadata": {},
   "outputs": [
    {
     "data": {
      "text/html": [
       "<div>\n",
       "<style scoped>\n",
       "    .dataframe tbody tr th:only-of-type {\n",
       "        vertical-align: middle;\n",
       "    }\n",
       "\n",
       "    .dataframe tbody tr th {\n",
       "        vertical-align: top;\n",
       "    }\n",
       "\n",
       "    .dataframe thead th {\n",
       "        text-align: right;\n",
       "    }\n",
       "</style>\n",
       "<table border=\"1\" class=\"dataframe\">\n",
       "  <thead>\n",
       "    <tr style=\"text-align: right;\">\n",
       "      <th></th>\n",
       "      <th>age</th>\n",
       "      <th>id_prod</th>\n",
       "    </tr>\n",
       "  </thead>\n",
       "  <tbody>\n",
       "    <tr>\n",
       "      <th>71</th>\n",
       "      <td>89.0</td>\n",
       "      <td>1.389831</td>\n",
       "    </tr>\n",
       "    <tr>\n",
       "      <th>72</th>\n",
       "      <td>90.0</td>\n",
       "      <td>1.543689</td>\n",
       "    </tr>\n",
       "    <tr>\n",
       "      <th>73</th>\n",
       "      <td>91.0</td>\n",
       "      <td>1.714286</td>\n",
       "    </tr>\n",
       "    <tr>\n",
       "      <th>74</th>\n",
       "      <td>92.0</td>\n",
       "      <td>1.597222</td>\n",
       "    </tr>\n",
       "    <tr>\n",
       "      <th>75</th>\n",
       "      <td>93.0</td>\n",
       "      <td>1.343750</td>\n",
       "    </tr>\n",
       "  </tbody>\n",
       "</table>\n",
       "</div>"
      ],
      "text/plain": [
       "     age   id_prod\n",
       "71  89.0  1.389831\n",
       "72  90.0  1.543689\n",
       "73  91.0  1.714286\n",
       "74  92.0  1.597222\n",
       "75  93.0  1.343750"
      ]
     },
     "execution_count": 131,
     "metadata": {},
     "output_type": "execute_result"
    }
   ],
   "source": [
    "# l'age du client et les sessions id \n",
    "clt_achat = df.groupby(['age', 'session_id']).count().reset_index()\n",
    "\n",
    "#l'age client en moyenne de produits achetés \n",
    "clt_achat = clt_achat.groupby('age').mean().reset_index()\n",
    "clt_achat = clt_achat[['age', 'id_prod']]\n",
    "clt_achat.tail()"
   ]
  },
  {
   "cell_type": "code",
   "execution_count": 135,
   "id": "8f58d925",
   "metadata": {},
   "outputs": [
    {
     "data": {
      "image/png": "[encoded data removed]",
      "text/plain": [
       "<Figure size 432x288 with 1 Axes>"
      ]
     },
     "metadata": {
      "needs_background": "light"
     },
     "output_type": "display_data"
    }
   ],
   "source": [
    "#Scatterplot (âge client par taille panier moyen)\n",
    "plt.plot(clt_achat.age, clt_achat.id_prod, 'o', color='red')\n",
    "\n",
    "plt.xlabel('age')\n",
    "plt.ylabel('Panier moyen (nombre de produits achetés)')\n",
    "plt.title('Panier moyen en nombre de produits par age du client')\n",
    "\n",
    "plt.show()"
   ]
  },
  {
   "cell_type": "code",
   "execution_count": 136,
   "id": "ac631ab8",
   "metadata": {},
   "outputs": [
    {
     "data": {
      "text/plain": [
       "(-0.5808288928810568, 3.7882138463037495e-08)"
      ]
     },
     "execution_count": 136,
     "metadata": {},
     "output_type": "execute_result"
    }
   ],
   "source": [
    "#Coefficient de corrélation linéaire de Pearson\n",
    "coef_clt_achat = st.pearsonr(clt_achat.age, clt_achat.id_prod)\n",
    "coef_clt_achat"
   ]
  },
  {
   "cell_type": "markdown",
   "id": "63551525",
   "metadata": {},
   "source": [
    "## Corrélation entre l'âge clients et la catégorie produits"
   ]
  },
  {
   "cell_type": "raw",
   "id": "b59c7dd8",
   "metadata": {},
   "source": [
    "Pour classer les individus en plusieurs classes, nous avons choisi la formule de Sturges-Huntsberger : k = 1 + 3.33*log(N,base=10).  Cette formule mathématique nous permettre de réduire nos individus \"âges\" par classe et interpréter plus facilement les résultats."
   ]
  },
  {
   "cell_type": "code",
   "execution_count": 137,
   "id": "4f905f75",
   "metadata": {},
   "outputs": [
    {
     "data": {
      "text/plain": [
       "227"
      ]
     },
     "execution_count": 137,
     "metadata": {},
     "output_type": "execute_result"
    }
   ],
   "source": [
    "#N est égale au nombre d'observations\n",
    "len(df.groupby(['age', 'categ']).count().reset_index())"
   ]
  },
  {
   "cell_type": "code",
   "execution_count": 138,
   "id": "5549adaa",
   "metadata": {},
   "outputs": [
    {
     "data": {
      "text/plain": [
       "8.853419523977076"
      ]
     },
     "execution_count": 138,
     "metadata": {},
     "output_type": "execute_result"
    }
   ],
   "source": [
    "#Formule de Huntsberger : 1 + 3,3*log10(N)\n",
    "1 + ((10/3) * mth.log10(227))"
   ]
  },
  {
   "cell_type": "code",
   "execution_count": 139,
   "id": "ca42ea65",
   "metadata": {},
   "outputs": [
    {
     "data": {
      "text/html": [
       "<div>\n",
       "<style scoped>\n",
       "    .dataframe tbody tr th:only-of-type {\n",
       "        vertical-align: middle;\n",
       "    }\n",
       "\n",
       "    .dataframe tbody tr th {\n",
       "        vertical-align: top;\n",
       "    }\n",
       "\n",
       "    .dataframe thead th {\n",
       "        text-align: right;\n",
       "    }\n",
       "</style>\n",
       "<table border=\"1\" class=\"dataframe\">\n",
       "  <thead>\n",
       "    <tr style=\"text-align: right;\">\n",
       "      <th></th>\n",
       "      <th>age</th>\n",
       "      <th>categ</th>\n",
       "      <th>session_id</th>\n",
       "    </tr>\n",
       "  </thead>\n",
       "  <tbody>\n",
       "    <tr>\n",
       "      <th>0</th>\n",
       "      <td>18.0</td>\n",
       "      <td>0.0</td>\n",
       "      <td>1668</td>\n",
       "    </tr>\n",
       "    <tr>\n",
       "      <th>1</th>\n",
       "      <td>18.0</td>\n",
       "      <td>1.0</td>\n",
       "      <td>2759</td>\n",
       "    </tr>\n",
       "    <tr>\n",
       "      <th>2</th>\n",
       "      <td>18.0</td>\n",
       "      <td>2.0</td>\n",
       "      <td>2921</td>\n",
       "    </tr>\n",
       "    <tr>\n",
       "      <th>3</th>\n",
       "      <td>19.0</td>\n",
       "      <td>0.0</td>\n",
       "      <td>488</td>\n",
       "    </tr>\n",
       "    <tr>\n",
       "      <th>4</th>\n",
       "      <td>19.0</td>\n",
       "      <td>1.0</td>\n",
       "      <td>817</td>\n",
       "    </tr>\n",
       "  </tbody>\n",
       "</table>\n",
       "</div>"
      ],
      "text/plain": [
       "    age  categ  session_id\n",
       "0  18.0    0.0        1668\n",
       "1  18.0    1.0        2759\n",
       "2  18.0    2.0        2921\n",
       "3  19.0    0.0         488\n",
       "4  19.0    1.0         817"
      ]
     },
     "execution_count": 139,
     "metadata": {},
     "output_type": "execute_result"
    }
   ],
   "source": [
    "# Agrégation données clients selon l'âge et la catégorie\n",
    "age_categ = df.groupby(['age', 'categ']).count().reset_index()\n",
    "age_categ = age_categ[['age', 'categ', 'session_id']]\n",
    "age_categ.head()"
   ]
  },
  {
   "cell_type": "code",
   "execution_count": 140,
   "id": "878e85cc",
   "metadata": {},
   "outputs": [
    {
     "data": {
      "text/html": [
       "<div>\n",
       "<style scoped>\n",
       "    .dataframe tbody tr th:only-of-type {\n",
       "        vertical-align: middle;\n",
       "    }\n",
       "\n",
       "    .dataframe tbody tr th {\n",
       "        vertical-align: top;\n",
       "    }\n",
       "\n",
       "    .dataframe thead th {\n",
       "        text-align: right;\n",
       "    }\n",
       "</style>\n",
       "<table border=\"1\" class=\"dataframe\">\n",
       "  <thead>\n",
       "    <tr style=\"text-align: right;\">\n",
       "      <th></th>\n",
       "      <th>age</th>\n",
       "      <th>categ</th>\n",
       "      <th>session_id</th>\n",
       "    </tr>\n",
       "  </thead>\n",
       "  <tbody>\n",
       "    <tr>\n",
       "      <th>0</th>\n",
       "      <td>(17.925, 26.333]</td>\n",
       "      <td>0.0</td>\n",
       "      <td>5994</td>\n",
       "    </tr>\n",
       "    <tr>\n",
       "      <th>1</th>\n",
       "      <td>(17.925, 26.333]</td>\n",
       "      <td>1.0</td>\n",
       "      <td>10552</td>\n",
       "    </tr>\n",
       "    <tr>\n",
       "      <th>2</th>\n",
       "      <td>(17.925, 26.333]</td>\n",
       "      <td>2.0</td>\n",
       "      <td>12019</td>\n",
       "    </tr>\n",
       "    <tr>\n",
       "      <th>3</th>\n",
       "      <td>(26.333, 34.667]</td>\n",
       "      <td>0.0</td>\n",
       "      <td>31712</td>\n",
       "    </tr>\n",
       "    <tr>\n",
       "      <th>4</th>\n",
       "      <td>(26.333, 34.667]</td>\n",
       "      <td>1.0</td>\n",
       "      <td>12358</td>\n",
       "    </tr>\n",
       "    <tr>\n",
       "      <th>5</th>\n",
       "      <td>(26.333, 34.667]</td>\n",
       "      <td>2.0</td>\n",
       "      <td>4236</td>\n",
       "    </tr>\n",
       "    <tr>\n",
       "      <th>6</th>\n",
       "      <td>(34.667, 43.0]</td>\n",
       "      <td>0.0</td>\n",
       "      <td>81274</td>\n",
       "    </tr>\n",
       "    <tr>\n",
       "      <th>7</th>\n",
       "      <td>(34.667, 43.0]</td>\n",
       "      <td>1.0</td>\n",
       "      <td>23879</td>\n",
       "    </tr>\n",
       "    <tr>\n",
       "      <th>8</th>\n",
       "      <td>(34.667, 43.0]</td>\n",
       "      <td>2.0</td>\n",
       "      <td>280</td>\n",
       "    </tr>\n",
       "    <tr>\n",
       "      <th>9</th>\n",
       "      <td>(43.0, 51.333]</td>\n",
       "      <td>0.0</td>\n",
       "      <td>52644</td>\n",
       "    </tr>\n",
       "  </tbody>\n",
       "</table>\n",
       "</div>"
      ],
      "text/plain": [
       "                age  categ  session_id\n",
       "0  (17.925, 26.333]    0.0        5994\n",
       "1  (17.925, 26.333]    1.0       10552\n",
       "2  (17.925, 26.333]    2.0       12019\n",
       "3  (26.333, 34.667]    0.0       31712\n",
       "4  (26.333, 34.667]    1.0       12358\n",
       "5  (26.333, 34.667]    2.0        4236\n",
       "6    (34.667, 43.0]    0.0       81274\n",
       "7    (34.667, 43.0]    1.0       23879\n",
       "8    (34.667, 43.0]    2.0         280\n",
       "9    (43.0, 51.333]    0.0       52644"
      ]
     },
     "execution_count": 140,
     "metadata": {},
     "output_type": "execute_result"
    }
   ],
   "source": [
    "# Segmentation des individus 'age' (méthode cout())\n",
    "age_categ['age']= pd.cut(age_categ['age'], 9)\n",
    "age_categ = age_categ.groupby(['age','categ']).sum().reset_index()\n",
    "age_categ.head(10)"
   ]
  },
  {
   "cell_type": "code",
   "execution_count": 141,
   "id": "a694cec0",
   "metadata": {},
   "outputs": [
    {
     "data": {
      "image/png": "[encoded data removed]",
      "text/plain": [
       "<Figure size 1584x864 with 1 Axes>"
      ]
     },
     "metadata": {
      "needs_background": "light"
     },
     "output_type": "display_data"
    }
   ],
   "source": [
    "#BarPlot Seaborn\n",
    "fig, ax = plt.subplots(figsize=(22, 12))\n",
    "sns.barplot(x=\"age\", y=\"session_id\",hue=\"categ\", data=age_categ)\n",
    "\n",
    "ax.set_xlabel('age')\n",
    "ax.set_ylabel('Nombre de produits vendus')\n",
    "ax.set_title('Catégories produits par âge client')\n",
    "\n",
    "plt.show()"
   ]
  },
  {
   "cell_type": "code",
   "execution_count": 143,
   "id": "33432e9f",
   "metadata": {},
   "outputs": [
    {
     "data": {
      "text/plain": [
       "0.34"
      ]
     },
     "execution_count": 143,
     "metadata": {},
     "output_type": "execute_result"
    }
   ],
   "source": [
    "#Coefficient de corrélation eta carré\n",
    "X = \"categ\" #qualitative\n",
    "Y = \"age\" #quantitative\n",
    "\n",
    "def eta_squared(x,y):\n",
    "    moyenne_y = y.mean()\n",
    "    classes = []\n",
    "    for classe in x.unique():\n",
    "        yi_classe = y[x==classe]\n",
    "        classes.append({'ni': len(yi_classe),\n",
    "                        'moyenne_classe': yi_classe.mean()})\n",
    "    SCT = sum([(yj-moyenne_y)**2 for yj in y])\n",
    "    SCE = sum([c['ni']*(c['moyenne_classe']-moyenne_y)**2 for c in classes])\n",
    "    return SCE/SCT\n",
    "\n",
    "round(eta_squared(age_categ.age, age_categ.session_id), 2)\n"
   ]
  },
  {
   "cell_type": "code",
   "execution_count": null,
   "id": "5e9d50d2",
   "metadata": {},
   "outputs": [],
   "source": []
  }
 ],
 "metadata": {
  "kernelspec": {
   "display_name": "Python 3",
   "language": "python",
   "name": "python3"
  },
  "language_info": {
   "codemirror_mode": {
    "name": "ipython",
    "version": 3
   },
   "file_extension": ".py",
   "mimetype": "text/x-python",
   "name": "python",
   "nbconvert_exporter": "python",
   "pygments_lexer": "ipython3",
   "version": "3.8.8"
  }
 },
 "nbformat": 4,
 "nbformat_minor": 5
}
